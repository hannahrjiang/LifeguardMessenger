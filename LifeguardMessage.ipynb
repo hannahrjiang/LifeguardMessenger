{
 "cells": [
  {
   "cell_type": "code",
   "execution_count": 1,
   "metadata": {},
   "outputs": [
    {
     "data": {
      "text/html": [
       "<div>\n",
       "<style scoped>\n",
       "    .dataframe tbody tr th:only-of-type {\n",
       "        vertical-align: middle;\n",
       "    }\n",
       "\n",
       "    .dataframe tbody tr th {\n",
       "        vertical-align: top;\n",
       "    }\n",
       "\n",
       "    .dataframe thead th {\n",
       "        text-align: right;\n",
       "    }\n",
       "</style>\n",
       "<table border=\"1\" class=\"dataframe\">\n",
       "  <thead>\n",
       "    <tr style=\"text-align: right;\">\n",
       "      <th></th>\n",
       "      <th>Scenario</th>\n",
       "      <th>Treatment</th>\n",
       "    </tr>\n",
       "  </thead>\n",
       "  <tbody>\n",
       "    <tr>\n",
       "      <th>0</th>\n",
       "      <td>SAMPLE</td>\n",
       "      <td>Signs and symptoms, Allergies, Medications, Pa...</td>\n",
       "    </tr>\n",
       "    <tr>\n",
       "      <th>1</th>\n",
       "      <td>Dog Bite</td>\n",
       "      <td>If dog is wild or suspected to have rabies, ca...</td>\n",
       "    </tr>\n",
       "    <tr>\n",
       "      <th>2</th>\n",
       "      <td>Burn</td>\n",
       "      <td>Heat burns: Remove the person from the source ...</td>\n",
       "    </tr>\n",
       "    <tr>\n",
       "      <th>3</th>\n",
       "      <td>Hypothermia</td>\n",
       "      <td>The person will be shivering, pale, cold to to...</td>\n",
       "    </tr>\n",
       "    <tr>\n",
       "      <th>4</th>\n",
       "      <td>Stroke</td>\n",
       "      <td>Look for signs of FAST. To treat, call 911, li...</td>\n",
       "    </tr>\n",
       "  </tbody>\n",
       "</table>\n",
       "</div>"
      ],
      "text/plain": [
       "      Scenario                                          Treatment\n",
       "0       SAMPLE  Signs and symptoms, Allergies, Medications, Pa...\n",
       "1     Dog Bite  If dog is wild or suspected to have rabies, ca...\n",
       "2         Burn  Heat burns: Remove the person from the source ...\n",
       "3  Hypothermia  The person will be shivering, pale, cold to to...\n",
       "4       Stroke  Look for signs of FAST. To treat, call 911, li..."
      ]
     },
     "execution_count": 1,
     "metadata": {},
     "output_type": "execute_result"
    }
   ],
   "source": [
    "# Import helper libraries\n",
    "from flask import Flask, request, redirect\n",
    "from twilio.twiml.messaging_response import MessagingResponse\n",
    "import pandas as pd\n",
    "\n",
    "# Import table of First Aid Scenarios\n",
    "firstAid = pd.read_csv(\"/Users/hannahjiang/Desktop/FAScenarios.csv\")\n",
    "firstAid = firstAid.replace(r'\\n', \"\", regex=True)\n",
    "firstAid.head()"
   ]
  },
  {
   "cell_type": "code",
   "execution_count": null,
   "metadata": {},
   "outputs": [
    {
     "name": "stdout",
     "output_type": "stream",
     "text": [
      " * Serving Flask app \"__main__\" (lazy loading)\n",
      " * Environment: production\n",
      "   WARNING: This is a development server. Do not use it in a production deployment.\n",
      "   Use a production WSGI server instead.\n",
      " * Debug mode: off\n"
     ]
    },
    {
     "name": "stderr",
     "output_type": "stream",
     "text": [
      " * Running on http://127.0.0.1:3000/ (Press CTRL+C to quit)\n",
      "127.0.0.1 - - [21/Aug/2021 11:08:42] \"\u001b[37mPOST /sms HTTP/1.1\u001b[0m\" 200 -\n",
      "127.0.0.1 - - [21/Aug/2021 11:08:47] \"\u001b[37mPOST /sms HTTP/1.1\u001b[0m\" 200 -\n",
      "127.0.0.1 - - [21/Aug/2021 11:08:54] \"\u001b[37mPOST /sms HTTP/1.1\u001b[0m\" 200 -\n",
      "127.0.0.1 - - [21/Aug/2021 11:09:15] \"\u001b[37mPOST /sms HTTP/1.1\u001b[0m\" 200 -\n",
      "127.0.0.1 - - [21/Aug/2021 11:11:09] \"\u001b[37mPOST /sms HTTP/1.1\u001b[0m\" 200 -\n",
      "127.0.0.1 - - [21/Aug/2021 11:11:19] \"\u001b[37mPOST /sms HTTP/1.1\u001b[0m\" 200 -\n",
      "127.0.0.1 - - [21/Aug/2021 11:11:26] \"\u001b[37mPOST /sms HTTP/1.1\u001b[0m\" 200 -\n",
      "127.0.0.1 - - [21/Aug/2021 11:11:36] \"\u001b[37mPOST /sms HTTP/1.1\u001b[0m\" 200 -\n",
      "127.0.0.1 - - [21/Aug/2021 11:12:37] \"\u001b[37mPOST /sms HTTP/1.1\u001b[0m\" 200 -\n",
      "127.0.0.1 - - [21/Aug/2021 15:41:15] \"\u001b[37mPOST /sms HTTP/1.1\u001b[0m\" 200 -\n"
     ]
    }
   ],
   "source": [
    "# This makes the values in our code easy to access\n",
    "firstAid[\"Scenario\"] = firstAid[\"Scenario\"].str.lower()\n",
    "\n",
    "# Set up receive & response\n",
    "app = Flask(__name__)\n",
    "@app.route(\"/sms\", methods=['GET', 'POST'])\n",
    "\n",
    "def incoming_sms():\n",
    "    \"\"\"When we receive an SMS text, we will send a dynamic reply depending on the incoming message\"\"\"\n",
    "    # Get the message the user sent our Twilio number\n",
    "    body = request.values.get('Body', None)\n",
    "\n",
    "    # Indicate a response\n",
    "    resp = MessagingResponse()\n",
    "\n",
    "    # Depending on the user's request, determine right reply for this message\n",
    "    if body.lower() in firstAid.values:\n",
    "        resp.message(firstAid.loc[firstAid['Scenario'] == body.lower(), \"Treatment\"].iloc[0])                 \n",
    "    else:\n",
    "        resp.message(\"I don't recogninze that scenario. Please try again.\")\n",
    "\n",
    "    return str(resp)\n",
    "\n",
    "# Run\n",
    "if __name__ == \"__main__\":\n",
    "    app.run(port = 3000)"
   ]
  }
 ],
 "metadata": {
  "kernelspec": {
   "display_name": "Python 3",
   "language": "python",
   "name": "python3"
  },
  "language_info": {
   "codemirror_mode": {
    "name": "ipython",
    "version": 3
   },
   "file_extension": ".py",
   "mimetype": "text/x-python",
   "name": "python",
   "nbconvert_exporter": "python",
   "pygments_lexer": "ipython3",
   "version": "3.7.6"
  },
  "varInspector": {
   "cols": {
    "lenName": 16,
    "lenType": 16,
    "lenVar": 40
   },
   "kernels_config": {
    "python": {
     "delete_cmd_postfix": "",
     "delete_cmd_prefix": "del ",
     "library": "var_list.py",
     "varRefreshCmd": "print(var_dic_list())"
    },
    "r": {
     "delete_cmd_postfix": ") ",
     "delete_cmd_prefix": "rm(",
     "library": "var_list.r",
     "varRefreshCmd": "cat(var_dic_list()) "
    }
   },
   "types_to_exclude": [
    "module",
    "function",
    "builtin_function_or_method",
    "instance",
    "_Feature"
   ],
   "window_display": false
  }
 },
 "nbformat": 4,
 "nbformat_minor": 4
}
